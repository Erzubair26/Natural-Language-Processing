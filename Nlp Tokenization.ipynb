{
 "cells": [
  {
   "cell_type": "code",
   "execution_count": 7,
   "id": "14a49e0f-ee74-42f3-814c-3d6031e74a6a",
   "metadata": {},
   "outputs": [
    {
     "name": "stdout",
     "output_type": "stream",
     "text": [
      "Requirement already satisfied: nltk in c:\\users\\erzub\\anaconda3\\lib\\site-packages (3.8.1)\n",
      "Requirement already satisfied: click in c:\\users\\erzub\\anaconda3\\lib\\site-packages (from nltk) (8.1.7)\n",
      "Requirement already satisfied: joblib in c:\\users\\erzub\\anaconda3\\lib\\site-packages (from nltk) (1.4.2)\n",
      "Requirement already satisfied: regex>=2021.8.3 in c:\\users\\erzub\\anaconda3\\lib\\site-packages (from nltk) (2023.10.3)\n",
      "Requirement already satisfied: tqdm in c:\\users\\erzub\\anaconda3\\lib\\site-packages (from nltk) (4.66.4)\n",
      "Requirement already satisfied: colorama in c:\\users\\erzub\\anaconda3\\lib\\site-packages (from click->nltk) (0.4.6)\n"
     ]
    }
   ],
   "source": [
    "!pip install nltk"
   ]
  },
  {
   "cell_type": "raw",
   "id": "5c912d98-824e-4ec0-84a3-2d0697e57eb1",
   "metadata": {},
   "source": [
    "1. Corpus → Paragraphs\n",
    "A corpus is a large collection of text used for NLP tasks.\n",
    "Example: A corpus of news articles may contain thousands of paragraphs.\n",
    "Think of a corpus as the entire book or library of text.\n",
    "\n",
    "2. Documents → Sentences\n",
    "A document is a single text unit inside the corpus (e.g., one article, review, or email).\n",
    "Each document is made up of sentences.\n",
    "Example: In a corpus of emails, each email = one document.\n",
    "Inside that email, we break it into sentences for analysis.\n",
    "\n",
    "3. Vocabulary → Unique Words\n",
    "Vocabulary means the set of all unique words in the corpus or document.\n",
    "Example:\n",
    "Text: \"I like NLP. I like Python.\"\n",
    "Words = {I, like, NLP, Python} → Vocabulary size = 4 (duplicates removed).\n",
    "Vocabulary is essential for Bag of Words, TF-IDF, and Word Embeddings.\n",
    "\n",
    "4. Words → Tokens\n",
    "Words are the individual tokens after splitting the text.\n",
    "Example: \"I like NLP\" → Tokens = [\"I\", \"like\", \"NLP\"].\n",
    "Words include repetitions.\n",
    "Example: \"I like NLP. I like Python.\" → Total Words = 6, but Vocabulary = 4."
   ]
  },
  {
   "cell_type": "code",
   "execution_count": 15,
   "id": "4e9e6604-7982-44f6-b59d-81a244387b0a",
   "metadata": {},
   "outputs": [],
   "source": [
    "corpus =\"\"\"Natural Language Processing (NLP) is a field of Artificial Intelligence that focuses on the interaction between computer's and human language. \n",
    "It helps machines read, understand, and generate text in a way that is meaningful. \n",
    "NLP combines linguistics, computer science, and machine learning to process and analyze large amounts of natural language data!.\"\"\"    \n"
   ]
  },
  {
   "cell_type": "code",
   "execution_count": 17,
   "id": "6a295137-7af8-4725-a9b0-b00d27bd1d2e",
   "metadata": {},
   "outputs": [
    {
     "data": {
      "text/plain": [
       "\"Natural Language Processing (NLP) is a field of Artificial Intelligence that focuses on the interaction between computer's and human language. \\nIt helps machines read, understand, and generate text in a way that is meaningful. \\nNLP combines linguistics, computer science, and machine learning to process and analyze large amounts of natural language data!.\""
      ]
     },
     "execution_count": 17,
     "metadata": {},
     "output_type": "execute_result"
    }
   ],
   "source": [
    "corpus"
   ]
  },
  {
   "cell_type": "code",
   "execution_count": 21,
   "id": "d83c1461-3cc5-4362-9631-6a38be8ff5ed",
   "metadata": {},
   "outputs": [],
   "source": [
    "#sent_tokenize → Splits a paragraph (corpus) into individual sentences.\n",
    "from nltk.tokenize import sent_tokenize"
   ]
  },
  {
   "cell_type": "code",
   "execution_count": 23,
   "id": "57610bbb-f23d-4efb-8741-128e5b72197c",
   "metadata": {},
   "outputs": [
    {
     "data": {
      "text/plain": [
       "[\"Natural Language Processing (NLP) is a field of Artificial Intelligence that focuses on the interaction between computer's and human language.\",\n",
       " 'It helps machines read, understand, and generate text in a way that is meaningful.',\n",
       " 'NLP combines linguistics, computer science, and machine learning to process and analyze large amounts of natural language data!.']"
      ]
     },
     "execution_count": 23,
     "metadata": {},
     "output_type": "execute_result"
    }
   ],
   "source": [
    "sent_tokenize(corpus)"
   ]
  },
  {
   "cell_type": "code",
   "execution_count": 25,
   "id": "cdbe81f3-3271-4ebc-bb91-3aed6f6a03fd",
   "metadata": {},
   "outputs": [],
   "source": [
    "sentence=sent_tokenize(corpus)"
   ]
  },
  {
   "cell_type": "code",
   "execution_count": 29,
   "id": "b53533dd-c1eb-487a-a026-ded4d7dba233",
   "metadata": {},
   "outputs": [
    {
     "name": "stdout",
     "output_type": "stream",
     "text": [
      "Natural Language Processing (NLP) is a field of Artificial Intelligence that focuses on the interaction between computer's and human language.\n",
      "It helps machines read, understand, and generate text in a way that is meaningful.\n",
      "NLP combines linguistics, computer science, and machine learning to process and analyze large amounts of natural language data!.\n"
     ]
    }
   ],
   "source": [
    "for sentences in sentence:\n",
    "    print(sentences)"
   ]
  },
  {
   "cell_type": "code",
   "execution_count": 31,
   "id": "f5901271-5c7d-4e9f-8641-090ecdbaaf57",
   "metadata": {},
   "outputs": [],
   "source": [
    "#word_tokenize → Splits a sentence or text into individual words (tokens).\n",
    "from nltk.tokenize import word_tokenize"
   ]
  },
  {
   "cell_type": "code",
   "execution_count": 33,
   "id": "6beb5704-f7ee-409e-aed7-71477c7f90cb",
   "metadata": {},
   "outputs": [
    {
     "data": {
      "text/plain": [
       "['Natural',\n",
       " 'Language',\n",
       " 'Processing',\n",
       " '(',\n",
       " 'NLP',\n",
       " ')',\n",
       " 'is',\n",
       " 'a',\n",
       " 'field',\n",
       " 'of',\n",
       " 'Artificial',\n",
       " 'Intelligence',\n",
       " 'that',\n",
       " 'focuses',\n",
       " 'on',\n",
       " 'the',\n",
       " 'interaction',\n",
       " 'between',\n",
       " 'computer',\n",
       " \"'s\",\n",
       " 'and',\n",
       " 'human',\n",
       " 'language',\n",
       " '.',\n",
       " 'It',\n",
       " 'helps',\n",
       " 'machines',\n",
       " 'read',\n",
       " ',',\n",
       " 'understand',\n",
       " ',',\n",
       " 'and',\n",
       " 'generate',\n",
       " 'text',\n",
       " 'in',\n",
       " 'a',\n",
       " 'way',\n",
       " 'that',\n",
       " 'is',\n",
       " 'meaningful',\n",
       " '.',\n",
       " 'NLP',\n",
       " 'combines',\n",
       " 'linguistics',\n",
       " ',',\n",
       " 'computer',\n",
       " 'science',\n",
       " ',',\n",
       " 'and',\n",
       " 'machine',\n",
       " 'learning',\n",
       " 'to',\n",
       " 'process',\n",
       " 'and',\n",
       " 'analyze',\n",
       " 'large',\n",
       " 'amounts',\n",
       " 'of',\n",
       " 'natural',\n",
       " 'language',\n",
       " 'data',\n",
       " '!',\n",
       " '.']"
      ]
     },
     "execution_count": 33,
     "metadata": {},
     "output_type": "execute_result"
    }
   ],
   "source": [
    "word_tokenize(corpus)"
   ]
  },
  {
   "cell_type": "code",
   "execution_count": 35,
   "id": "5b64e7de-a59a-4fbd-87cd-f9e488d9547e",
   "metadata": {},
   "outputs": [],
   "source": [
    "# wordpunct_tokenize → Splits text into words and punctuation marks separately (e.g., \"NLP's great!\" → ['NLP', \"'\", 's', 'great', '!']).\n",
    "from nltk.tokenize import wordpunct_tokenize"
   ]
  },
  {
   "cell_type": "code",
   "execution_count": 37,
   "id": "22f64045-b9b3-4290-abd0-b47803e1c0f4",
   "metadata": {},
   "outputs": [
    {
     "data": {
      "text/plain": [
       "['Natural',\n",
       " 'Language',\n",
       " 'Processing',\n",
       " '(',\n",
       " 'NLP',\n",
       " ')',\n",
       " 'is',\n",
       " 'a',\n",
       " 'field',\n",
       " 'of',\n",
       " 'Artificial',\n",
       " 'Intelligence',\n",
       " 'that',\n",
       " 'focuses',\n",
       " 'on',\n",
       " 'the',\n",
       " 'interaction',\n",
       " 'between',\n",
       " 'computer',\n",
       " \"'\",\n",
       " 's',\n",
       " 'and',\n",
       " 'human',\n",
       " 'language',\n",
       " '.',\n",
       " 'It',\n",
       " 'helps',\n",
       " 'machines',\n",
       " 'read',\n",
       " ',',\n",
       " 'understand',\n",
       " ',',\n",
       " 'and',\n",
       " 'generate',\n",
       " 'text',\n",
       " 'in',\n",
       " 'a',\n",
       " 'way',\n",
       " 'that',\n",
       " 'is',\n",
       " 'meaningful',\n",
       " '.',\n",
       " 'NLP',\n",
       " 'combines',\n",
       " 'linguistics',\n",
       " ',',\n",
       " 'computer',\n",
       " 'science',\n",
       " ',',\n",
       " 'and',\n",
       " 'machine',\n",
       " 'learning',\n",
       " 'to',\n",
       " 'process',\n",
       " 'and',\n",
       " 'analyze',\n",
       " 'large',\n",
       " 'amounts',\n",
       " 'of',\n",
       " 'natural',\n",
       " 'language',\n",
       " 'data',\n",
       " '!.']"
      ]
     },
     "execution_count": 37,
     "metadata": {},
     "output_type": "execute_result"
    }
   ],
   "source": [
    "wordpunct_tokenize(corpus)"
   ]
  },
  {
   "cell_type": "code",
   "execution_count": 39,
   "id": "b6355f32-d319-4e29-b420-dc8b29ac5a8d",
   "metadata": {},
   "outputs": [],
   "source": [
    "###TreebankWordTokenizer → Tokenizer based on the Penn Treebank rules that splits text into words while handling punctuation, contractions, and special cases.\n",
    "#(e.g., \"don't\" → [\"do\", \"n't\"])\n"
   ]
  },
  {
   "cell_type": "code",
   "execution_count": 41,
   "id": "4289f07c-2d03-40fd-a6c7-37a01a594540",
   "metadata": {},
   "outputs": [],
   "source": [
    "from nltk import TreebankWordTokenizer"
   ]
  },
  {
   "cell_type": "code",
   "execution_count": 45,
   "id": "0e5ab5be-00cf-4828-85e3-f2c6c8e506cb",
   "metadata": {},
   "outputs": [],
   "source": [
    "tokenizer=TreebankWordTokenizer()"
   ]
  },
  {
   "cell_type": "code",
   "execution_count": 49,
   "id": "de680ee6-f054-4c66-aaa2-7b229ab4748f",
   "metadata": {},
   "outputs": [
    {
     "data": {
      "text/plain": [
       "['Natural',\n",
       " 'Language',\n",
       " 'Processing',\n",
       " '(',\n",
       " 'NLP',\n",
       " ')',\n",
       " 'is',\n",
       " 'a',\n",
       " 'field',\n",
       " 'of',\n",
       " 'Artificial',\n",
       " 'Intelligence',\n",
       " 'that',\n",
       " 'focuses',\n",
       " 'on',\n",
       " 'the',\n",
       " 'interaction',\n",
       " 'between',\n",
       " 'computer',\n",
       " \"'s\",\n",
       " 'and',\n",
       " 'human',\n",
       " 'language.',\n",
       " 'It',\n",
       " 'helps',\n",
       " 'machines',\n",
       " 'read',\n",
       " ',',\n",
       " 'understand',\n",
       " ',',\n",
       " 'and',\n",
       " 'generate',\n",
       " 'text',\n",
       " 'in',\n",
       " 'a',\n",
       " 'way',\n",
       " 'that',\n",
       " 'is',\n",
       " 'meaningful.',\n",
       " 'NLP',\n",
       " 'combines',\n",
       " 'linguistics',\n",
       " ',',\n",
       " 'computer',\n",
       " 'science',\n",
       " ',',\n",
       " 'and',\n",
       " 'machine',\n",
       " 'learning',\n",
       " 'to',\n",
       " 'process',\n",
       " 'and',\n",
       " 'analyze',\n",
       " 'large',\n",
       " 'amounts',\n",
       " 'of',\n",
       " 'natural',\n",
       " 'language',\n",
       " 'data',\n",
       " '!',\n",
       " '.']"
      ]
     },
     "execution_count": 49,
     "metadata": {},
     "output_type": "execute_result"
    }
   ],
   "source": [
    "tokenizer.tokenize(corpus)"
   ]
  },
  {
   "cell_type": "code",
   "execution_count": null,
   "id": "e6641e9e-a18f-43a4-8d71-832185f57915",
   "metadata": {},
   "outputs": [],
   "source": []
  }
 ],
 "metadata": {
  "kernelspec": {
   "display_name": "Python 3 (ipykernel)",
   "language": "python",
   "name": "python3"
  },
  "language_info": {
   "codemirror_mode": {
    "name": "ipython",
    "version": 3
   },
   "file_extension": ".py",
   "mimetype": "text/x-python",
   "name": "python",
   "nbconvert_exporter": "python",
   "pygments_lexer": "ipython3",
   "version": "3.12.4"
  }
 },
 "nbformat": 4,
 "nbformat_minor": 5
}
